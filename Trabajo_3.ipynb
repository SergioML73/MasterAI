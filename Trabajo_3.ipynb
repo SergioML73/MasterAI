{
 "cells": [
  {
   "cell_type": "markdown",
   "metadata": {
    "colab_type": "text",
    "id": "Ic4_occAAiAT"
   },
   "source": [
    "# Word Vectors"
   ]
  },
  {
   "cell_type": "markdown",
   "metadata": {
    "colab_type": "text",
    "id": "Eg62Pmz3o83v"
   },
   "source": [
    "En este trabajo, utilizaremos **embeddings** para resolver un problema de clasificación de texto. Los embeddings, representaciones distribuidas y vectoriales de elementos, son un concepto muy común en el mundo del deep learning. Los **word vectors** que hemos visto en clase son una representación en forma de embedding de las palabras.\n",
    "\n",
    "Para realizar este trabajo y sacarle el máximo partido, se recomienda ver los siguientes vídeos de clase:\n",
    "\n",
    "*   Clasificación de texto con Word Vectors.\n",
    "*   Análisis de overfitting con un modelo bag of words.\n",
    "*   Clasificación de texto con RNN\n",
    "\n",
    "Vamos a utilizar el dataset **\"Reuters newswire topics classification\"**, disponible desde Keras de manera similar al dataset de IMDB ([ver documentación](https://keras.io/datasets/#reuters-newswire-topics-classification)).\n",
    "\n",
    "---\n",
    "\n",
    "Se pide:\n",
    "\n",
    "Entrenar un modelo **utilizando embeddings** que consiga un **65% de accuracy en test (55% si usamos RNNs)**, mostrando el entrenamiento y el resultado final.\n",
    " \n",
    "Tenemos varias opciones para entrenar modelos con embeddings. El alumno puede explorar más de una pero es suficiente con conseguir un modelo que alcance la accuracy requerida:\n",
    "\n",
    "*   Utilizar una **media de embeddings** al estilo de lo visto en el vídeo *Clasificación de texto con Word Vectors*\n",
    "*   Utilizar una **CNN** sobre una secuencia de word vectors. Aquí necesitamos cambiar un poco la idea de convolución para actuar sobre sequencias de vectores. Keras incluye una [Convolución en 1D](https://keras.io/layers/convolutional/#conv1d) que puede ser utilizada en este caso, con un ejemplo de uso en la documentación. Una forma de hacer funcionar este esquema sería utilizar la convolución en 1D + max pooling.\n",
    "*  Utilizar una **RNN** sobre una secuencia de word vectors, al estilo de lo visto en el vídeo *Clasificación de texto con RNN*. Para este problema es un poco complicado conseguir un buen modelo con RNNs, y además es más difícil experimentar ya que las redes recurrentes son modelos lentos de entrenar. Por eso, es suficiente con alcanzar un 55% de accuracy si optamos por utilizar un modelo de este estilo. Un buen consejo es emplear una red recurrente bidireccional como se ve en el vídeo *Clasificación de texto con RNN*.\n",
    "\n",
    "\n",
    "\n",
    "---\n",
    "\n",
    "Dos hiperparámetros importantes a elegir en el modelo son la **longitud de las secuencias de texto** y el **tamaño del vocabulario** para los embeddings. Podéis experimentar con ambos, o utilizar los mismos que se usan en los vídeos. Nótese que, al cortar todas las secuencias para que tengan el mismo tamaño, podríamos estar perdiendo mucho texto si elegimos un tamaño de secuencia demasiado pequeño. Igualmente, si las hacemos muy largas necesitaremos más tiempo para entrenar nuestros modelos. Una buena idea consiste en explorar los datos para ver cómo suelen ser de largos los textos y encontrar un buen trade-off para el tamaño de al secuencia.\n",
    "\n",
    "\n",
    "\n",
    "---\n",
    "\n",
    "Los embeddings que hemos visto en los vídeos se entrenan junto al modelo.  Una técnica frecuente es inicializar estos embeddings con word-vectors pre-entrenados en un gran corpus de texto, como hemos visto en clase. Esto puede ayudar ya que nuestro modelo empieza con unos embeddings que ya encapsulan significado. Si bien no es necesario para esta práctica, podéis ver cómo usar esta técnica [en el siguiente tutorial](https://blog.keras.io/using-pre-trained-word-embeddings-in-a-keras-model.html).\n",
    "\n",
    "\n"
   ]
  },
  {
   "cell_type": "code",
   "execution_count": 0,
   "metadata": {
    "colab": {},
    "colab_type": "code",
    "id": "2ew7HTbPpCJH"
   },
   "outputs": [],
   "source": [
    "##Entrenamiento a partir del dataset \"Reuter newswire topics classification\"\n",
    "##Aproximaciónm: embeddings."
   ]
  },
  {
   "cell_type": "code",
   "execution_count": 60,
   "metadata": {},
   "outputs": [
    {
     "name": "stdout",
     "output_type": "stream",
     "text": [
      "1.11.0\n"
     ]
    }
   ],
   "source": [
    "import tensorflow as tf\n",
    "from tensorflow import keras\n",
    "\n",
    "import numpy as np\n",
    "\n",
    "import matplotlib.pyplot as plt\n",
    "\n",
    "print(tf.__version__)"
   ]
  },
  {
   "cell_type": "code",
   "execution_count": 21,
   "metadata": {},
   "outputs": [],
   "source": [
    "#STEP1 - OBTENCIÓN DEL DATASET"
   ]
  },
  {
   "cell_type": "code",
   "execution_count": 22,
   "metadata": {},
   "outputs": [],
   "source": [
    "#Reuters newswire topics classification\n",
    "#El Dataset cotiene 11.228 newswires de Reuters, etiquetadas con 46 temas/categorías. \n",
    "#Cada  noticia esta dodificada como una secuencua de \"word indexes\" (same conventions).\n",
    "from keras.datasets import reuters\n",
    "reuterdataset = keras.datasets.reuters\n",
    "max_words=10000\n",
    "(x_train, y_train), (x_test, y_test) = reuters.load_data(path=\"reuters.npz\",\n",
    "                                                         num_words=max_words,\n",
    "                                                         skip_top=0,\n",
    "                                                         maxlen=None,\n",
    "                                                         test_split=0.2,\n",
    "                                                         seed=113,# Para shuffle\n",
    "                                                         start_char=1,\n",
    "                                                         oov_char=2,\n",
    "                                                         index_from=3)"
   ]
  },
  {
   "cell_type": "code",
   "execution_count": 23,
   "metadata": {},
   "outputs": [],
   "source": [
    "#STEP 2  - EXPLORACIÓN DE LOS DATOS"
   ]
  },
  {
   "cell_type": "code",
   "execution_count": 24,
   "metadata": {
    "scrolled": false
   },
   "outputs": [
    {
     "name": "stdout",
     "output_type": "stream",
     "text": [
      "REGISTROS DE TRAINING: 8982, labels: 8982\n",
      "REGISTROS DE TEST: 2246, labels: 2246\n"
     ]
    }
   ],
   "source": [
    "print(\"REGISTROS DE TRAINING: {}, labels: {}\".format(len(x_train), len(y_train)))\n",
    "print(\"REGISTROS DE TEST: {}, labels: {}\".format(len(x_test), len(y_test)))"
   ]
  },
  {
   "cell_type": "code",
   "execution_count": 25,
   "metadata": {
    "scrolled": false
   },
   "outputs": [
    {
     "name": "stdout",
     "output_type": "stream",
     "text": [
      "[1, 4, 37, 38, 309, 213, 349, 1632, 48, 193, 229, 463, 28, 156, 635, 11, 82, 14, 156, 635, 11, 82, 54, 139, 16, 349, 105, 462, 311, 28, 296, 147, 11, 82, 14, 296, 147, 11, 54, 139, 342, 48, 193, 3234, 361, 122, 23, 1332, 28, 318, 942, 11, 82, 14, 318, 942, 11, 82, 54, 139, 122, 7, 105, 462, 23, 349, 28, 296, 767, 11, 82, 14, 296, 767, 11, 54, 139, 342, 229, 162, 7, 48, 193, 55, 408, 28, 258, 557, 11, 82, 14, 196, 557, 11, 82, 54, 139, 162, 7, 105, 462, 55, 349, 28, 191, 968, 11, 82, 14, 191, 785, 11, 54, 139, 17, 12]\n"
     ]
    }
   ],
   "source": [
    "#Los textos de newswire se conviernte a números, donde cada uno de ellos representa una palabra específica en el\n",
    "#diccionario.\n",
    "#Así es como se refleja\n",
    "print(x_train[5])"
   ]
  },
  {
   "cell_type": "code",
   "execution_count": 26,
   "metadata": {},
   "outputs": [
    {
     "data": {
      "text/plain": [
       "(91, 58)"
      ]
     },
     "execution_count": 26,
     "metadata": {},
     "output_type": "execute_result"
    }
   ],
   "source": [
    "#The below code shows the number of words in the first and second newswires. \n",
    "#Since inputs to a neural network must be the same length, we'll need to resolve this later.\n",
    "len(x_train[18]), len(x_train[109])"
   ]
  },
  {
   "cell_type": "code",
   "execution_count": 27,
   "metadata": {},
   "outputs": [],
   "source": [
    "#STEP 3 - Convert the integers back to words"
   ]
  },
  {
   "cell_type": "code",
   "execution_count": 28,
   "metadata": {},
   "outputs": [],
   "source": [
    "#It may be useful to know how to convert integers back to text. \n",
    "#Here, we'll create a helper function to query a dictionary object that contains the integer to string mapping:\n",
    "# A dictionary mapping words to an integer index\n",
    "newswires_index = reuters.get_word_index(path=\"reuters_word_index.json\")\n",
    "\n",
    "\n",
    "# The first indices are reserved. Al wordindex original, añadimos estos token especiales y les añadidos\n",
    "#unos indices especiales:\n",
    "newswires_index = {k:(v+3) for k,v in newswires_index.items()} \n",
    "newswires_index[\"<PAD>\"] = 0 # padding\n",
    "newswires_index[\"<START>\"] = 1 #comienzo de cadena\n",
    "newswires_index[\"<UNK>\"] = 2  # unknown, o palabras desconocidas de nuestro vocabulario\n",
    "newswires_index[\"<UNUSED>\"] = 3\n",
    "#construyo el indice al reves: si se el indice, conozco la palabra\n",
    "reverse_word_index = dict([(value, key) for (key, value) in newswires_index.items()])\n",
    "\n",
    "def decode_review(text):\n",
    "    return ' '.join([reverse_word_index.get(i, '?') for i in text])\n"
   ]
  },
  {
   "cell_type": "code",
   "execution_count": 29,
   "metadata": {},
   "outputs": [
    {
     "name": "stdout",
     "output_type": "stream",
     "text": [
      "[1, 2, 1568, 71, 8, 25, 166, 887, 42, 303, 275, 5, 102, 26, 90, 67, 21, 1041, 10, 9, 894, 175, 80, 233, 22, 147, 26, 54, 29, 208, 6, 42, 133, 499, 7, 186, 13, 4, 29, 273, 94, 284, 4, 275, 23, 606, 93, 102, 6, 823, 5, 146, 21, 93, 12, 2, 1123, 19, 6077, 18, 15, 54, 29, 17, 12]\n",
      "Num Classes 46\n",
      "the\n"
     ]
    }
   ],
   "source": [
    "decode_review(x_train[365])\n",
    "\n",
    "#Imprimimos el primer valor de train\n",
    "print(x_train[365])\n",
    "\n",
    "#Imprimimos sus características\n",
    "print(\"Num Classes\", max(y_train)+1)\n",
    "\n",
    "#Imprimimos una palabra de ejemplo que se corresponda con un indice de x_train\n",
    "print(list(newswires_index .keys())[list(newswires_index .values()).index(4)])"
   ]
  },
  {
   "cell_type": "code",
   "execution_count": 30,
   "metadata": {},
   "outputs": [],
   "source": [
    "#los token start y end, no son tan útiles aqui con wordvectors como con redes recurrentes, \n",
    "#donde ayudan a reconocer el inicio y el final del texto.\n",
    "#Los unknows, se correspondern con las palabras que se eliminaron con el filtor de palabras\n",
    "#más frecuentes, por lo que cuando aparence en el texto, se describien como unknow ya que no\n",
    "#podemos asociarles un wordembedding donde se intenta recopilar el significado de muchas palabras\n",
    "#desconocidas\n",
    "#Las newswires tienen tamaño distinstos. \n",
    "#El token padding, se utilizar para homogeneizar estos tamañaños y evitar complicaciones \n",
    "#al programar modelos de redes neruronales, que necesitan valores estáticos y del mismo tamaño.\n",
    "#Las newswires que tenga  mas de 256 se recortan hata ese numero. Las que no lleguen a 256, van a ser\n",
    "#completadas con el token padding con un indice 0 y así, el modelo serça capaz de detectar\n",
    "#que no hay nada y que simplemente es un relleno."
   ]
  },
  {
   "cell_type": "code",
   "execution_count": 31,
   "metadata": {},
   "outputs": [],
   "source": [
    "#STEP 4 - PREPARACIÓN DE LOS DATOS"
   ]
  },
  {
   "cell_type": "code",
   "execution_count": 32,
   "metadata": {},
   "outputs": [],
   "source": [
    "# El array de newswires se ha de convertir a tensores antes de alimentar la red neuronal\n",
    "#después. es posible crear un númoer de tendores cuya shape es max_length * num_reviews\n",
    "#Se crearça una función pad-sequence que se utilizará para estandarizar las longitudes \"256\"\n",
    "\n",
    "x_train = keras.preprocessing.sequence.pad_sequences(x_train,\n",
    "                                                        value=newswires_index [\"<PAD>\"],\n",
    "                                                        padding='post',\n",
    "                                                        maxlen=256)\n",
    "\n",
    "x_test = keras.preprocessing.sequence.pad_sequences(x_test,\n",
    "                                                       value=newswires_index [\"<PAD>\"],\n",
    "                                                       padding='post',\n",
    "                                                       maxlen=256)\n"
   ]
  },
  {
   "cell_type": "code",
   "execution_count": 33,
   "metadata": {},
   "outputs": [
    {
     "data": {
      "text/plain": [
       "(256, 256)"
      ]
     },
     "execution_count": 33,
     "metadata": {},
     "output_type": "execute_result"
    }
   ],
   "source": [
    "len(x_train[0]), len(x_train[1])"
   ]
  },
  {
   "cell_type": "code",
   "execution_count": 37,
   "metadata": {},
   "outputs": [
    {
     "data": {
      "text/plain": [
       "46"
      ]
     },
     "execution_count": 37,
     "metadata": {},
     "output_type": "execute_result"
    }
   ],
   "source": [
    "max(y_train)+1"
   ]
  },
  {
   "cell_type": "code",
   "execution_count": 38,
   "metadata": {},
   "outputs": [],
   "source": [
    "num_classes=max(y_train)+1"
   ]
  },
  {
   "cell_type": "code",
   "execution_count": 39,
   "metadata": {},
   "outputs": [
    {
     "data": {
      "text/plain": [
       "46"
      ]
     },
     "execution_count": 39,
     "metadata": {},
     "output_type": "execute_result"
    }
   ],
   "source": [
    "num_classes"
   ]
  },
  {
   "cell_type": "code",
   "execution_count": 40,
   "metadata": {},
   "outputs": [
    {
     "name": "stdout",
     "output_type": "stream",
     "text": [
      "Convert class vector to binary class matrix (for use with categorical_crossentropy)\n",
      "y_train shape: (8982, 46)\n",
      "y_test shape: (2246, 46)\n"
     ]
    }
   ],
   "source": [
    "\n",
    "print('Convert class vector to binary class matrix '\n",
    "      '(for use with categorical_crossentropy)')\n",
    "y_train_2 = keras.utils.to_categorical(y_train, num_classes)\n",
    "y_test_2 = keras.utils.to_categorical(y_test, num_classes)\n",
    "print('y_train shape:', y_train_2.shape)\n",
    "print('y_test shape:', y_test_2.shape)"
   ]
  },
  {
   "cell_type": "code",
   "execution_count": null,
   "metadata": {},
   "outputs": [],
   "source": [
    "#STEP 5 - CREAR EL MODELO"
   ]
  },
  {
   "cell_type": "code",
   "execution_count": null,
   "metadata": {},
   "outputs": [],
   "source": [
    "#The layers are stacked sequentially to build the classifier:\n",
    "#A.- The first layer is an Embedding layer. \n",
    "#This layer takes the integer-encoded vocabulary and looks up the embedding vector for each word-index. \n",
    "#These vectors are learned as the model trains. The vectors add a dimension to the output array. \n",
    "#The resulting dimensions are: (batch, sequence, embedding).\n",
    "#-------------------------------------------\n",
    "#B.- Next, a GlobalAveragePooling1D layer returns a fixed-length output vector for each example \n",
    "#by averaging over the sequence dimension. \n",
    "#This allows the model to handle input of variable length, in the simplest way possible.\n",
    "#-------------------------------------------\n",
    "#C.- This fixed-length output vector is piped through a fully-connected (Dense) layer with 16 hidden units.\n",
    "#-------------------------------------------\n",
    "#D. Next, Dropout=0.1\n",
    "#--------------------------------------------\n",
    "#E.- This fixed-length output vector is piped through a fully-connected (Dense) layer with 16 hidden units.\n",
    "#--------------------------------------------\n",
    "#F.- Next, Dropout=0.1\n",
    "#--------------------------------------------\n",
    "#D.- The last layer is densely connected with 46 output nodes with softmazx activations "
   ]
  },
  {
   "cell_type": "code",
   "execution_count": 569,
   "metadata": {},
   "outputs": [
    {
     "name": "stdout",
     "output_type": "stream",
     "text": [
      "_________________________________________________________________\n",
      "Layer (type)                 Output Shape              Param #   \n",
      "=================================================================\n",
      "embedding_44 (Embedding)     (None, None, 16)          160000    \n",
      "_________________________________________________________________\n",
      "global_average_pooling1d_44  (None, 16)                0         \n",
      "_________________________________________________________________\n",
      "dense_99 (Dense)             (None, 16)                272       \n",
      "_________________________________________________________________\n",
      "dropout_49 (Dropout)         (None, 16)                0         \n",
      "_________________________________________________________________\n",
      "dense_100 (Dense)            (None, 16)                272       \n",
      "_________________________________________________________________\n",
      "dropout_50 (Dropout)         (None, 16)                0         \n",
      "_________________________________________________________________\n",
      "dense_101 (Dense)            (None, 46)                782       \n",
      "=================================================================\n",
      "Total params: 161,326\n",
      "Trainable params: 161,326\n",
      "Non-trainable params: 0\n",
      "_________________________________________________________________\n"
     ]
    }
   ],
   "source": [
    "\n",
    "batch_size = 64\n",
    "epochs = 80\n",
    "num_classes = y_test_2.shape[1]\n",
    "model2 = keras.Sequential()\n",
    "model2.add(keras.layers.Embedding(max_words, 16))\n",
    "model2.add(keras.layers.GlobalAveragePooling1D())\n",
    "model2.add(keras.layers.Dense(16, activation = \"relu\"))\n",
    "model2.add(keras.layers.Dropout(0.1))\n",
    "model2.add(keras.layers.Dense(16, activation = \"relu\"))\n",
    "model2.add(keras.layers.Dropout(0.1))\n",
    "model2.add(keras.layers.Dense(num_classes, activation = \"softmax\"))\n",
    "model2.summary()"
   ]
  },
  {
   "cell_type": "code",
   "execution_count": 570,
   "metadata": {},
   "outputs": [],
   "source": [
    "\n",
    "model2.compile(loss='categorical_crossentropy',\n",
    "              optimizer='adam',\n",
    "              metrics=['accuracy'])"
   ]
  },
  {
   "cell_type": "code",
   "execution_count": null,
   "metadata": {},
   "outputs": [],
   "source": [
    "#Creo el dataset de validación"
   ]
  },
  {
   "cell_type": "code",
   "execution_count": 571,
   "metadata": {},
   "outputs": [],
   "source": [
    "x_val = x_train[6982:]\n",
    "x_train_partial = x_train[:6982]\n",
    "\n",
    "y_val = y_train_2[6982:]\n",
    "y_train_partial = y_train_2[:6982]"
   ]
  },
  {
   "cell_type": "code",
   "execution_count": null,
   "metadata": {},
   "outputs": [],
   "source": [
    "##STEP 6 - entreno el modelo"
   ]
  },
  {
   "cell_type": "code",
   "execution_count": 572,
   "metadata": {},
   "outputs": [
    {
     "name": "stderr",
     "output_type": "stream",
     "text": [
      "/Users/sergiomunoz/.local/lib/python3.6/site-packages/tensorflow/python/ops/gradients_impl.py:108: UserWarning: Converting sparse IndexedSlices to a dense Tensor of unknown shape. This may consume a large amount of memory.\n",
      "  \"Converting sparse IndexedSlices to a dense Tensor of unknown shape. \"\n"
     ]
    },
    {
     "name": "stdout",
     "output_type": "stream",
     "text": [
      "Train on 6982 samples, validate on 2000 samples\n",
      "Epoch 1/80\n",
      "6982/6982 [==============================] - 2s 336us/step - loss: 3.5278 - acc: 0.3372 - val_loss: 2.7092 - val_acc: 0.3465\n",
      "Epoch 2/80\n",
      "6982/6982 [==============================] - 0s 61us/step - loss: 2.4238 - acc: 0.3496 - val_loss: 2.2640 - val_acc: 0.3465\n",
      "Epoch 3/80\n",
      "6982/6982 [==============================] - 0s 65us/step - loss: 2.3038 - acc: 0.3519 - val_loss: 2.2088 - val_acc: 0.3465\n",
      "Epoch 4/80\n",
      "6982/6982 [==============================] - 0s 67us/step - loss: 2.2303 - acc: 0.3503 - val_loss: 2.1154 - val_acc: 0.3480\n",
      "Epoch 5/80\n",
      "6982/6982 [==============================] - 0s 67us/step - loss: 2.1056 - acc: 0.3641 - val_loss: 1.9807 - val_acc: 0.3660\n",
      "Epoch 6/80\n",
      "6982/6982 [==============================] - 0s 67us/step - loss: 1.9732 - acc: 0.3916 - val_loss: 1.8576 - val_acc: 0.4060\n",
      "Epoch 7/80\n",
      "6982/6982 [==============================] - 0s 66us/step - loss: 1.8692 - acc: 0.4391 - val_loss: 1.7734 - val_acc: 0.4620\n",
      "Epoch 8/80\n",
      "6982/6982 [==============================] - 0s 64us/step - loss: 1.7933 - acc: 0.4979 - val_loss: 1.7072 - val_acc: 0.5670\n",
      "Epoch 9/80\n",
      "6982/6982 [==============================] - 0s 65us/step - loss: 1.7205 - acc: 0.5375 - val_loss: 1.6485 - val_acc: 0.5775\n",
      "Epoch 10/80\n",
      "6982/6982 [==============================] - 0s 70us/step - loss: 1.6706 - acc: 0.5587 - val_loss: 1.6085 - val_acc: 0.5860\n",
      "Epoch 11/80\n",
      "6982/6982 [==============================] - 0s 67us/step - loss: 1.6286 - acc: 0.5740 - val_loss: 1.5745 - val_acc: 0.5930\n",
      "Epoch 12/80\n",
      "6982/6982 [==============================] - 0s 67us/step - loss: 1.5848 - acc: 0.5835 - val_loss: 1.5454 - val_acc: 0.6005\n",
      "Epoch 13/80\n",
      "6982/6982 [==============================] - 0s 64us/step - loss: 1.5491 - acc: 0.5960 - val_loss: 1.5260 - val_acc: 0.6030\n",
      "Epoch 14/80\n",
      "6982/6982 [==============================] - 0s 65us/step - loss: 1.4952 - acc: 0.6080 - val_loss: 1.5004 - val_acc: 0.6150\n",
      "Epoch 15/80\n",
      "6982/6982 [==============================] - 0s 63us/step - loss: 1.4596 - acc: 0.6162 - val_loss: 1.4731 - val_acc: 0.6195\n",
      "Epoch 16/80\n",
      "6982/6982 [==============================] - 0s 68us/step - loss: 1.4204 - acc: 0.6292 - val_loss: 1.4534 - val_acc: 0.6250\n",
      "Epoch 17/80\n",
      "6982/6982 [==============================] - 0s 64us/step - loss: 1.3821 - acc: 0.6362 - val_loss: 1.4358 - val_acc: 0.6355\n",
      "Epoch 18/80\n",
      "6982/6982 [==============================] - 0s 64us/step - loss: 1.3476 - acc: 0.6477 - val_loss: 1.4197 - val_acc: 0.6425\n",
      "Epoch 19/80\n",
      "6982/6982 [==============================] - 0s 65us/step - loss: 1.3068 - acc: 0.6580 - val_loss: 1.4104 - val_acc: 0.6490\n",
      "Epoch 20/80\n",
      "6982/6982 [==============================] - 0s 69us/step - loss: 1.2812 - acc: 0.6644 - val_loss: 1.4031 - val_acc: 0.6505\n",
      "Epoch 21/80\n",
      "6982/6982 [==============================] - 0s 63us/step - loss: 1.2580 - acc: 0.6691 - val_loss: 1.3899 - val_acc: 0.6550\n",
      "Epoch 22/80\n",
      "6982/6982 [==============================] - 0s 67us/step - loss: 1.2296 - acc: 0.6704 - val_loss: 1.3825 - val_acc: 0.6570\n",
      "Epoch 23/80\n",
      "6982/6982 [==============================] - 0s 68us/step - loss: 1.1988 - acc: 0.6839 - val_loss: 1.3746 - val_acc: 0.6635\n",
      "Epoch 24/80\n",
      "6982/6982 [==============================] - 0s 65us/step - loss: 1.1741 - acc: 0.6918 - val_loss: 1.3704 - val_acc: 0.6705\n",
      "Epoch 25/80\n",
      "6982/6982 [==============================] - 0s 65us/step - loss: 1.1403 - acc: 0.6987 - val_loss: 1.3648 - val_acc: 0.6740\n",
      "Epoch 26/80\n",
      "6982/6982 [==============================] - 0s 68us/step - loss: 1.1193 - acc: 0.7047 - val_loss: 1.3681 - val_acc: 0.6730\n",
      "Epoch 27/80\n",
      "6982/6982 [==============================] - 0s 67us/step - loss: 1.0846 - acc: 0.7115 - val_loss: 1.3617 - val_acc: 0.6785\n",
      "Epoch 28/80\n",
      "6982/6982 [==============================] - 0s 68us/step - loss: 1.0659 - acc: 0.7203 - val_loss: 1.3572 - val_acc: 0.6840\n",
      "Epoch 29/80\n",
      "6982/6982 [==============================] - 0s 68us/step - loss: 1.0479 - acc: 0.7216 - val_loss: 1.3491 - val_acc: 0.6870\n",
      "Epoch 30/80\n",
      "6982/6982 [==============================] - 0s 66us/step - loss: 1.0196 - acc: 0.7252 - val_loss: 1.3550 - val_acc: 0.6810\n",
      "Epoch 31/80\n",
      "6982/6982 [==============================] - 0s 68us/step - loss: 1.0033 - acc: 0.7279 - val_loss: 1.3453 - val_acc: 0.6850\n",
      "Epoch 32/80\n",
      "6982/6982 [==============================] - 0s 63us/step - loss: 0.9801 - acc: 0.7317 - val_loss: 1.3447 - val_acc: 0.6865\n",
      "Epoch 33/80\n",
      "6982/6982 [==============================] - 0s 67us/step - loss: 0.9556 - acc: 0.7399 - val_loss: 1.3750 - val_acc: 0.6865\n",
      "Epoch 34/80\n",
      "6982/6982 [==============================] - 0s 69us/step - loss: 0.9370 - acc: 0.7421 - val_loss: 1.3450 - val_acc: 0.6945\n",
      "Epoch 35/80\n",
      "6982/6982 [==============================] - 0s 63us/step - loss: 0.9202 - acc: 0.7452 - val_loss: 1.3418 - val_acc: 0.6970\n",
      "Epoch 36/80\n",
      "6982/6982 [==============================] - 0s 61us/step - loss: 0.9013 - acc: 0.7485 - val_loss: 1.3468 - val_acc: 0.6960\n",
      "Epoch 37/80\n",
      "6982/6982 [==============================] - 0s 63us/step - loss: 0.8764 - acc: 0.7547 - val_loss: 1.3576 - val_acc: 0.7010\n",
      "Epoch 38/80\n",
      "6982/6982 [==============================] - 0s 68us/step - loss: 0.8608 - acc: 0.7605 - val_loss: 1.3516 - val_acc: 0.6950\n",
      "Epoch 39/80\n",
      "6982/6982 [==============================] - 0s 67us/step - loss: 0.8556 - acc: 0.7554 - val_loss: 1.3715 - val_acc: 0.6995\n",
      "Epoch 40/80\n",
      "6982/6982 [==============================] - 0s 68us/step - loss: 0.8324 - acc: 0.7631 - val_loss: 1.3640 - val_acc: 0.7030\n",
      "Epoch 41/80\n",
      "6982/6982 [==============================] - 0s 69us/step - loss: 0.8236 - acc: 0.7673 - val_loss: 1.3835 - val_acc: 0.7060\n",
      "Epoch 42/80\n",
      "6982/6982 [==============================] - 0s 69us/step - loss: 0.8124 - acc: 0.7677 - val_loss: 1.3733 - val_acc: 0.7060\n",
      "Epoch 43/80\n",
      "6982/6982 [==============================] - 0s 68us/step - loss: 0.7971 - acc: 0.7736 - val_loss: 1.3763 - val_acc: 0.7075\n",
      "Epoch 44/80\n",
      "6982/6982 [==============================] - 0s 67us/step - loss: 0.7827 - acc: 0.7748 - val_loss: 1.4088 - val_acc: 0.7040\n",
      "Epoch 45/80\n",
      "6982/6982 [==============================] - 0s 67us/step - loss: 0.7687 - acc: 0.7801 - val_loss: 1.3968 - val_acc: 0.7095\n",
      "Epoch 46/80\n",
      "6982/6982 [==============================] - 0s 64us/step - loss: 0.7665 - acc: 0.7731 - val_loss: 1.3971 - val_acc: 0.7095\n",
      "Epoch 47/80\n",
      "6982/6982 [==============================] - 0s 63us/step - loss: 0.7520 - acc: 0.7810 - val_loss: 1.4241 - val_acc: 0.7095\n",
      "Epoch 48/80\n",
      "6982/6982 [==============================] - 0s 68us/step - loss: 0.7366 - acc: 0.7844 - val_loss: 1.4396 - val_acc: 0.7080\n",
      "Epoch 49/80\n",
      "6982/6982 [==============================] - 0s 65us/step - loss: 0.7230 - acc: 0.7892 - val_loss: 1.4383 - val_acc: 0.7075\n",
      "Epoch 50/80\n",
      "6982/6982 [==============================] - 0s 67us/step - loss: 0.7200 - acc: 0.7918 - val_loss: 1.4406 - val_acc: 0.7105\n",
      "Epoch 51/80\n",
      "6982/6982 [==============================] - 0s 67us/step - loss: 0.7122 - acc: 0.7909 - val_loss: 1.4553 - val_acc: 0.7115\n",
      "Epoch 52/80\n",
      "6982/6982 [==============================] - 0s 69us/step - loss: 0.7046 - acc: 0.7949 - val_loss: 1.4520 - val_acc: 0.7085\n",
      "Epoch 53/80\n",
      "6982/6982 [==============================] - 0s 64us/step - loss: 0.6850 - acc: 0.8003 - val_loss: 1.4989 - val_acc: 0.7120\n",
      "Epoch 54/80\n",
      "6982/6982 [==============================] - 0s 64us/step - loss: 0.6749 - acc: 0.8041 - val_loss: 1.4801 - val_acc: 0.7060\n",
      "Epoch 55/80\n",
      "6982/6982 [==============================] - 0s 69us/step - loss: 0.6646 - acc: 0.8074 - val_loss: 1.5157 - val_acc: 0.7105\n",
      "Epoch 56/80\n",
      "6982/6982 [==============================] - 0s 69us/step - loss: 0.6536 - acc: 0.8068 - val_loss: 1.5176 - val_acc: 0.7090\n",
      "Epoch 57/80\n",
      "6982/6982 [==============================] - 0s 68us/step - loss: 0.6577 - acc: 0.8085 - val_loss: 1.5168 - val_acc: 0.7100\n",
      "Epoch 58/80\n",
      "6982/6982 [==============================] - 0s 67us/step - loss: 0.6466 - acc: 0.8089 - val_loss: 1.5376 - val_acc: 0.7130\n",
      "Epoch 59/80\n",
      "6982/6982 [==============================] - 0s 67us/step - loss: 0.6372 - acc: 0.8140 - val_loss: 1.5495 - val_acc: 0.7080\n",
      "Epoch 60/80\n",
      "6982/6982 [==============================] - 0s 68us/step - loss: 0.6387 - acc: 0.8127 - val_loss: 1.5775 - val_acc: 0.7075\n"
     ]
    },
    {
     "name": "stdout",
     "output_type": "stream",
     "text": [
      "Epoch 61/80\n",
      "6982/6982 [==============================] - 0s 64us/step - loss: 0.6231 - acc: 0.8205 - val_loss: 1.5406 - val_acc: 0.7075\n",
      "Epoch 62/80\n",
      "6982/6982 [==============================] - 0s 64us/step - loss: 0.6214 - acc: 0.8174 - val_loss: 1.5679 - val_acc: 0.7095\n",
      "Epoch 63/80\n",
      "6982/6982 [==============================] - 0s 63us/step - loss: 0.6177 - acc: 0.8190 - val_loss: 1.5565 - val_acc: 0.7105\n",
      "Epoch 64/80\n",
      "6982/6982 [==============================] - 0s 63us/step - loss: 0.6016 - acc: 0.8300 - val_loss: 1.5912 - val_acc: 0.7115\n",
      "Epoch 65/80\n",
      "6982/6982 [==============================] - 0s 63us/step - loss: 0.5943 - acc: 0.8257 - val_loss: 1.6119 - val_acc: 0.7110\n",
      "Epoch 66/80\n",
      "6982/6982 [==============================] - 0s 63us/step - loss: 0.5972 - acc: 0.8240 - val_loss: 1.6301 - val_acc: 0.7140\n",
      "Epoch 67/80\n",
      "6982/6982 [==============================] - 0s 63us/step - loss: 0.5754 - acc: 0.8329 - val_loss: 1.5964 - val_acc: 0.7075\n",
      "Epoch 68/80\n",
      "6982/6982 [==============================] - 0s 63us/step - loss: 0.5737 - acc: 0.8354 - val_loss: 1.6011 - val_acc: 0.7145\n",
      "Epoch 69/80\n",
      "6982/6982 [==============================] - 0s 63us/step - loss: 0.5815 - acc: 0.8286 - val_loss: 1.6312 - val_acc: 0.7175\n",
      "Epoch 70/80\n",
      "6982/6982 [==============================] - 0s 62us/step - loss: 0.5548 - acc: 0.8376 - val_loss: 1.6394 - val_acc: 0.7125\n",
      "Epoch 71/80\n",
      "6982/6982 [==============================] - 0s 67us/step - loss: 0.5514 - acc: 0.8389 - val_loss: 1.6600 - val_acc: 0.7135\n",
      "Epoch 72/80\n",
      "6982/6982 [==============================] - 0s 62us/step - loss: 0.5471 - acc: 0.8419 - val_loss: 1.6622 - val_acc: 0.7140\n",
      "Epoch 73/80\n",
      "6982/6982 [==============================] - 0s 63us/step - loss: 0.5470 - acc: 0.8425 - val_loss: 1.6824 - val_acc: 0.7135\n",
      "Epoch 74/80\n",
      "6982/6982 [==============================] - 0s 63us/step - loss: 0.5495 - acc: 0.8436 - val_loss: 1.6688 - val_acc: 0.7105\n",
      "Epoch 75/80\n",
      "6982/6982 [==============================] - 0s 67us/step - loss: 0.5392 - acc: 0.8387 - val_loss: 1.6801 - val_acc: 0.7105\n",
      "Epoch 76/80\n",
      "6982/6982 [==============================] - 0s 63us/step - loss: 0.5344 - acc: 0.8463 - val_loss: 1.6939 - val_acc: 0.7040\n",
      "Epoch 77/80\n",
      "6982/6982 [==============================] - 0s 66us/step - loss: 0.5245 - acc: 0.8479 - val_loss: 1.6967 - val_acc: 0.7125\n",
      "Epoch 78/80\n",
      "6982/6982 [==============================] - 0s 61us/step - loss: 0.5270 - acc: 0.8443 - val_loss: 1.7123 - val_acc: 0.7115\n",
      "Epoch 79/80\n",
      "6982/6982 [==============================] - 0s 67us/step - loss: 0.5236 - acc: 0.8453 - val_loss: 1.7462 - val_acc: 0.7125\n",
      "Epoch 80/80\n",
      "6982/6982 [==============================] - 0s 63us/step - loss: 0.5134 - acc: 0.8500 - val_loss: 1.7175 - val_acc: 0.7095\n"
     ]
    }
   ],
   "source": [
    "history2 = model2.fit(x_train_partial, y_train_partial,\n",
    "                    batch_size=batch_size,\n",
    "                    epochs=epochs,\n",
    "                    validation_data=(x_val, y_val),\n",
    "                    verbose=1)"
   ]
  },
  {
   "cell_type": "code",
   "execution_count": 573,
   "metadata": {},
   "outputs": [
    {
     "name": "stdout",
     "output_type": "stream",
     "text": [
      "2246/2246 [==============================] - 0s 53us/step\n",
      "[1.7721528081307958, 0.7008014247551202]\n"
     ]
    }
   ],
   "source": [
    "results = model2.evaluate(x_test, y_test_2)\n",
    "\n",
    "print(results)"
   ]
  },
  {
   "cell_type": "code",
   "execution_count": null,
   "metadata": {},
   "outputs": [],
   "source": [
    "#se supera el objetivo con  los datos de test ACCURACY=0.70080"
   ]
  },
  {
   "cell_type": "code",
   "execution_count": 545,
   "metadata": {},
   "outputs": [
    {
     "data": {
      "text/plain": [
       "dict_keys(['val_loss', 'val_acc', 'loss', 'acc'])"
      ]
     },
     "execution_count": 545,
     "metadata": {},
     "output_type": "execute_result"
    }
   ],
   "source": [
    "history_dict_2 = history2.history\n",
    "history_dict_2.keys()"
   ]
  },
  {
   "cell_type": "code",
   "execution_count": 546,
   "metadata": {},
   "outputs": [
    {
     "data": {
      "text/plain": [
       "[3.4376376809926334,\n",
       " 2.413516961684783,\n",
       " 2.2842738534481537,\n",
       " 2.1395790902020013,\n",
       " 1.981927289811836,\n",
       " 1.8557089387909522,\n",
       " 1.763662829470136,\n",
       " 1.6951394048248654,\n",
       " 1.6380659145121927,\n",
       " 1.5986450121929296,\n",
       " 1.5646873195203455,\n",
       " 1.5263376791372711,\n",
       " 1.4921949900381546,\n",
       " 1.45946713256754,\n",
       " 1.4181525718513583,\n",
       " 1.3891268945703257,\n",
       " 1.3449979454697254,\n",
       " 1.3166983829156542,\n",
       " 1.2755702022698916,\n",
       " 1.2487269677019024,\n",
       " 1.215022654835251,\n",
       " 1.1834532260655741,\n",
       " 1.1444997292847525,\n",
       " 1.1221479864183315,\n",
       " 1.0858026400093226,\n",
       " 1.0720703256092656,\n",
       " 1.0524378930453548,\n",
       " 1.0297929514823756,\n",
       " 1.0102509167296125,\n",
       " 0.9913381322923822,\n",
       " 0.9812535629662427,\n",
       " 0.9692825134283354,\n",
       " 0.94397106424371,\n",
       " 0.9231829437680928,\n",
       " 0.9106730536518518,\n",
       " 0.9091840323559093,\n",
       " 0.8902524103634902,\n",
       " 0.8719184473775854,\n",
       " 0.864897012386169,\n",
       " 0.8456047032699651,\n",
       " 0.8445113555847557,\n",
       " 0.8329282453359966,\n",
       " 0.8154595180966048,\n",
       " 0.8255229263481866,\n",
       " 0.7940163707125327,\n",
       " 0.7852026956602483,\n",
       " 0.787171476078013,\n",
       " 0.7762955034899186,\n",
       " 0.7580397114375368,\n",
       " 0.761123408631997,\n",
       " 0.7454544085207863,\n",
       " 0.7292272743575042,\n",
       " 0.7273595825337094,\n",
       " 0.7266504026285662,\n",
       " 0.7167512206678164,\n",
       " 0.7029434375932312,\n",
       " 0.6862900322930104,\n",
       " 0.6873415369797627,\n",
       " 0.6804640598230189,\n",
       " 0.6770776048648395,\n",
       " 0.6646683520691609,\n",
       " 0.6603980017268395,\n",
       " 0.6596630726450324,\n",
       " 0.64855462032688,\n",
       " 0.6437848944337551,\n",
       " 0.6452615544161527,\n",
       " 0.6429731672044403,\n",
       " 0.6279780539843798,\n",
       " 0.6196122326317506,\n",
       " 0.6222677869395177,\n",
       " 0.6040027938938968,\n",
       " 0.5951929055527813,\n",
       " 0.6036691079505772,\n",
       " 0.5861121158533608,\n",
       " 0.5913156198075697,\n",
       " 0.5891408694999261,\n",
       " 0.5856893487558499,\n",
       " 0.5695140121728225,\n",
       " 0.5711999662226881,\n",
       " 0.5614241637189216]"
      ]
     },
     "execution_count": 546,
     "metadata": {},
     "output_type": "execute_result"
    }
   ],
   "source": [
    "history_dict_2['loss']"
   ]
  },
  {
   "cell_type": "code",
   "execution_count": 547,
   "metadata": {
    "scrolled": true
   },
   "outputs": [
    {
     "data": {
      "text/plain": [
       "[0.29361214552131226,\n",
       " 0.33643655113148097,\n",
       " 0.3716700086106,\n",
       " 0.4196505299426532,\n",
       " 0.47264394154694794,\n",
       " 0.5083070753365798,\n",
       " 0.5375250644685203,\n",
       " 0.5645946719966758,\n",
       " 0.5872242910340877,\n",
       " 0.5998281294928687,\n",
       " 0.6064164995532498,\n",
       " 0.6162990547291907,\n",
       " 0.6326267545116012,\n",
       " 0.6323403036379261,\n",
       " 0.6399312518073917,\n",
       " 0.6559725007161272,\n",
       " 0.6697221426354613,\n",
       " 0.6731595531195632,\n",
       " 0.6816098539271283,\n",
       " 0.684904038940245,\n",
       " 0.6945001432339737,\n",
       " 0.699656258934516,\n",
       " 0.7029504439817804,\n",
       " 0.7106846175710099,\n",
       " 0.7201374964364379,\n",
       " 0.7209968490233157,\n",
       " 0.7237181323573775,\n",
       " 0.724004583196905,\n",
       " 0.7311658550729317,\n",
       " 0.7313090805097693,\n",
       " 0.7357490690175867,\n",
       " 0.7393297049726739,\n",
       " 0.7411916356174149,\n",
       " 0.7452019478744779,\n",
       " 0.7472071039645933,\n",
       " 0.7440561443883141,\n",
       " 0.753795474076196,\n",
       " 0.7492122600803195,\n",
       " 0.7602406187168134,\n",
       " 0.7578057863247221,\n",
       " 0.7636780292009153,\n",
       " 0.7669722142481797,\n",
       " 0.7704096247493555,\n",
       " 0.7696934975480938,\n",
       " 0.7675451160296777,\n",
       " 0.7788599255227728,\n",
       " 0.7771412202807219,\n",
       " 0.7772844457004856,\n",
       " 0.7828702377712989,\n",
       " 0.7790031509425366,\n",
       " 0.7861644228185634,\n",
       " 0.7904611858895432,\n",
       " 0.788456029773817,\n",
       " 0.7940418218446303,\n",
       " 0.7931824692065311,\n",
       " 0.7993411629905471,\n",
       " 0.8036379260786007,\n",
       " 0.8013463191233471,\n",
       " 0.8024921226180477,\n",
       " 0.8009166427957606,\n",
       " 0.803781151549586,\n",
       " 0.8080779146547135,\n",
       " 0.8032082497851618,\n",
       " 0.8139501575309067,\n",
       " 0.8156688628071053,\n",
       " 0.809653394442853,\n",
       " 0.8122314523230033,\n",
       " 0.8125179031796047,\n",
       " 0.8122314523059295,\n",
       " 0.8165282153939832,\n",
       " 0.8248352907476367,\n",
       " 0.8203953022227455,\n",
       " 0.8211114293727858,\n",
       " 0.825837868788426,\n",
       " 0.8229733600516744,\n",
       " 0.8201088513149227,\n",
       " 0.8242623890173603,\n",
       " 0.8318533371526783,\n",
       " 0.8268404468633629,\n",
       " 0.836150100240732]"
      ]
     },
     "execution_count": 547,
     "metadata": {},
     "output_type": "execute_result"
    }
   ],
   "source": [
    "history_dict_2['acc']"
   ]
  },
  {
   "cell_type": "code",
   "execution_count": 548,
   "metadata": {},
   "outputs": [
    {
     "data": {
      "image/png": "[encoded data removed]",
      "text/plain": [
       "<Figure size 432x288 with 1 Axes>"
      ]
     },
     "metadata": {},
     "output_type": "display_data"
    }
   ],
   "source": [
    "acc = history2.history['acc']\n",
    "val_acc = history2.history['val_acc']\n",
    "loss = history2.history['loss']\n",
    "val_loss = history2.history['val_loss']\n",
    "\n",
    "epochs = range(1, len(acc) + 1)\n",
    "\n",
    "# \"bo\" is for \"blue dot\"\n",
    "plt.plot(epochs, loss, 'bo', label='Training loss')\n",
    "# b is for \"solid blue line\"\n",
    "plt.plot(epochs, val_loss, 'b', label='Validation loss')\n",
    "plt.title('Training and validation loss')\n",
    "plt.xlabel('Epochs')\n",
    "plt.ylabel('Loss')\n",
    "plt.legend()\n",
    "\n",
    "plt.show()"
   ]
  },
  {
   "cell_type": "code",
   "execution_count": 549,
   "metadata": {},
   "outputs": [
    {
     "data": {
      "image/png": "[encoded data removed]",
      "text/plain": [
       "<Figure size 432x288 with 1 Axes>"
      ]
     },
     "metadata": {},
     "output_type": "display_data"
    }
   ],
   "source": [
    "plt.clf()   # clear figure\n",
    "acc_values = history_dict_2['acc']\n",
    "val_acc_values = history_dict_2['val_acc']\n",
    "\n",
    "plt.plot(epochs, acc, 'bo', label='Training acc')\n",
    "plt.plot(epochs, val_acc, 'b', label='Validation acc')\n",
    "plt.title('Training and validation accuracy')\n",
    "plt.xlabel('Epochs')\n",
    "plt.ylabel('Accuracy')\n",
    "plt.legend()\n",
    "\n",
    "plt.show()"
   ]
  },
  {
   "cell_type": "code",
   "execution_count": 61,
   "metadata": {},
   "outputs": [],
   "source": [
    "x_train_pad = keras.preprocessing.sequence.pad_sequences(x_train,\n",
    "                                                        value=newswires_index [\"<PAD>\"],\n",
    "                                                        padding='post',\n",
    "                                                        maxlen=512)\n",
    "\n",
    "x_test_pad = keras.preprocessing.sequence.pad_sequences(x_test,\n",
    "                                                       value=newswires_index [\"<PAD>\"],\n",
    "                                                       padding='post',\n",
    "                                                       maxlen=512)"
   ]
  },
  {
   "cell_type": "code",
   "execution_count": 62,
   "metadata": {},
   "outputs": [
    {
     "data": {
      "text/plain": [
       "(512, 512)"
      ]
     },
     "execution_count": 62,
     "metadata": {},
     "output_type": "execute_result"
    }
   ],
   "source": [
    "len(x_train_pad[0]), len(x_train_pad[1])"
   ]
  },
  {
   "cell_type": "code",
   "execution_count": 63,
   "metadata": {},
   "outputs": [
    {
     "name": "stdout",
     "output_type": "stream",
     "text": [
      "Convert class vector to binary class matrix (for use with categorical_crossentropy)\n",
      "y_train shape: (8982, 46)\n",
      "y_test shape: (2246, 46)\n"
     ]
    }
   ],
   "source": [
    "print('Convert class vector to binary class matrix '\n",
    "      '(for use with categorical_crossentropy)')\n",
    "y_train_pad = keras.utils.to_categorical(y_train, num_classes)\n",
    "y_test_pad = keras.utils.to_categorical(y_test, num_classes)\n",
    "print('y_train shape:', y_train_pad.shape)\n",
    "print('y_test shape:', y_test_pad.shape)"
   ]
  },
  {
   "cell_type": "code",
   "execution_count": 64,
   "metadata": {},
   "outputs": [
    {
     "name": "stdout",
     "output_type": "stream",
     "text": [
      "_________________________________________________________________\n",
      "Layer (type)                 Output Shape              Param #   \n",
      "=================================================================\n",
      "embedding_1 (Embedding)      (None, None, 32)          320000    \n",
      "_________________________________________________________________\n",
      "global_average_pooling1d_1 ( (None, 32)                0         \n",
      "_________________________________________________________________\n",
      "dense_3 (Dense)              (None, 32)                1056      \n",
      "_________________________________________________________________\n",
      "dropout_2 (Dropout)          (None, 32)                0         \n",
      "_________________________________________________________________\n",
      "dense_4 (Dense)              (None, 32)                1056      \n",
      "_________________________________________________________________\n",
      "dropout_3 (Dropout)          (None, 32)                0         \n",
      "_________________________________________________________________\n",
      "dense_5 (Dense)              (None, 46)                1518      \n",
      "=================================================================\n",
      "Total params: 323,630\n",
      "Trainable params: 323,630\n",
      "Non-trainable params: 0\n",
      "_________________________________________________________________\n"
     ]
    }
   ],
   "source": [
    "#añado además una regularización tipo L2\n",
    "\n",
    "batch_size = 64\n",
    "epochs = 80\n",
    "num_classes = y_test_pad.shape[1]\n",
    "model3 = keras.Sequential()\n",
    "model3.add(keras.layers.Embedding(max_words, 32))\n",
    "model3.add(keras.layers.GlobalAveragePooling1D())\n",
    "model3.add(keras.layers.Dense(32, kernel_regularizer=keras.regularizers.l2(0.001),activation = \"relu\",input_shape=(max_words,)))\n",
    "model3.add(keras.layers.Dropout(0.1))\n",
    "model3.add(keras.layers.Dense(32,kernel_regularizer=keras.regularizers.l2(0.001), activation = \"relu\"))\n",
    "model3.add(keras.layers.Dropout(0.1))\n",
    "model3.add(keras.layers.Dense(num_classes, activation = \"softmax\"))\n",
    "model3.summary()"
   ]
  },
  {
   "cell_type": "code",
   "execution_count": 65,
   "metadata": {},
   "outputs": [],
   "source": [
    "\n",
    "model3.compile(loss='categorical_crossentropy',\n",
    "              optimizer='adam',\n",
    "              metrics=['accuracy'])"
   ]
  },
  {
   "cell_type": "code",
   "execution_count": 66,
   "metadata": {},
   "outputs": [],
   "source": [
    "x_val_pad = x_train_pad[6982:]\n",
    "x_train_partial_pad = x_train_pad[:6982]\n",
    "\n",
    "y_val_pad = y_train_pad[6982:]\n",
    "y_train_partial_pad = y_train_pad[:6982]"
   ]
  },
  {
   "cell_type": "code",
   "execution_count": 67,
   "metadata": {},
   "outputs": [
    {
     "name": "stderr",
     "output_type": "stream",
     "text": [
      "/Users/sergiomunoz/.local/lib/python3.6/site-packages/tensorflow/python/ops/gradients_impl.py:108: UserWarning: Converting sparse IndexedSlices to a dense Tensor of unknown shape. This may consume a large amount of memory.\n",
      "  \"Converting sparse IndexedSlices to a dense Tensor of unknown shape. \"\n"
     ]
    },
    {
     "name": "stdout",
     "output_type": "stream",
     "text": [
      "Train on 6982 samples, validate on 2000 samples\n",
      "Epoch 1/80\n",
      "6982/6982 [==============================] - 1s 144us/step - loss: 3.1948 - acc: 0.3257 - val_loss: 2.3778 - val_acc: 0.3465\n",
      "Epoch 2/80\n",
      "6982/6982 [==============================] - 1s 84us/step - loss: 2.3971 - acc: 0.3407 - val_loss: 2.3062 - val_acc: 0.3465\n",
      "Epoch 3/80\n",
      "6982/6982 [==============================] - 1s 85us/step - loss: 2.3243 - acc: 0.3510 - val_loss: 2.2404 - val_acc: 0.3470\n",
      "Epoch 4/80\n",
      "6982/6982 [==============================] - 1s 84us/step - loss: 2.2429 - acc: 0.3529 - val_loss: 2.1433 - val_acc: 0.3500\n",
      "Epoch 5/80\n",
      "6982/6982 [==============================] - 1s 85us/step - loss: 2.1243 - acc: 0.3761 - val_loss: 2.0113 - val_acc: 0.3875\n",
      "Epoch 6/80\n",
      "6982/6982 [==============================] - 1s 84us/step - loss: 2.0156 - acc: 0.4433 - val_loss: 1.9220 - val_acc: 0.4905\n",
      "Epoch 7/80\n",
      "6982/6982 [==============================] - 1s 84us/step - loss: 1.9380 - acc: 0.4820 - val_loss: 1.8610 - val_acc: 0.5230\n",
      "Epoch 8/80\n",
      "6982/6982 [==============================] - 1s 83us/step - loss: 1.8822 - acc: 0.4983 - val_loss: 1.8182 - val_acc: 0.5275\n",
      "Epoch 9/80\n",
      "6982/6982 [==============================] - 1s 85us/step - loss: 1.8490 - acc: 0.5089 - val_loss: 1.7888 - val_acc: 0.5305\n",
      "Epoch 10/80\n",
      "6982/6982 [==============================] - 1s 85us/step - loss: 1.8081 - acc: 0.5209 - val_loss: 1.7644 - val_acc: 0.5370\n",
      "Epoch 11/80\n",
      "6982/6982 [==============================] - 1s 85us/step - loss: 1.7811 - acc: 0.5272 - val_loss: 1.7399 - val_acc: 0.5390\n",
      "Epoch 12/80\n",
      "6982/6982 [==============================] - 1s 84us/step - loss: 1.7488 - acc: 0.5351 - val_loss: 1.7200 - val_acc: 0.5490\n",
      "Epoch 13/80\n",
      "6982/6982 [==============================] - 1s 85us/step - loss: 1.7202 - acc: 0.5488 - val_loss: 1.7052 - val_acc: 0.5580\n",
      "Epoch 14/80\n",
      "6982/6982 [==============================] - 1s 86us/step - loss: 1.6976 - acc: 0.5590 - val_loss: 1.6865 - val_acc: 0.5660\n",
      "Epoch 15/80\n",
      "6982/6982 [==============================] - 1s 88us/step - loss: 1.6736 - acc: 0.5667 - val_loss: 1.6790 - val_acc: 0.5695\n",
      "Epoch 16/80\n",
      "6982/6982 [==============================] - 1s 89us/step - loss: 1.6513 - acc: 0.5696 - val_loss: 1.6649 - val_acc: 0.5830\n",
      "Epoch 17/80\n",
      "6982/6982 [==============================] - 1s 88us/step - loss: 1.6323 - acc: 0.5815 - val_loss: 1.6503 - val_acc: 0.5880\n",
      "Epoch 18/80\n",
      "6982/6982 [==============================] - 1s 85us/step - loss: 1.6086 - acc: 0.5846 - val_loss: 1.6434 - val_acc: 0.5820\n",
      "Epoch 19/80\n",
      "6982/6982 [==============================] - 1s 84us/step - loss: 1.5899 - acc: 0.5931 - val_loss: 1.6329 - val_acc: 0.5950\n",
      "Epoch 20/80\n",
      "6982/6982 [==============================] - 1s 85us/step - loss: 1.5716 - acc: 0.5965 - val_loss: 1.6276 - val_acc: 0.5930\n",
      "Epoch 21/80\n",
      "6982/6982 [==============================] - 1s 84us/step - loss: 1.5557 - acc: 0.5987 - val_loss: 1.6200 - val_acc: 0.6000\n",
      "Epoch 22/80\n",
      "6982/6982 [==============================] - 1s 84us/step - loss: 1.5350 - acc: 0.6077 - val_loss: 1.6338 - val_acc: 0.5905\n",
      "Epoch 23/80\n",
      "6982/6982 [==============================] - 1s 85us/step - loss: 1.5153 - acc: 0.6107 - val_loss: 1.6174 - val_acc: 0.6065\n",
      "Epoch 24/80\n",
      "6982/6982 [==============================] - 1s 85us/step - loss: 1.5053 - acc: 0.6192 - val_loss: 1.6066 - val_acc: 0.6110\n",
      "Epoch 25/80\n",
      "6982/6982 [==============================] - 1s 84us/step - loss: 1.4906 - acc: 0.6179 - val_loss: 1.6081 - val_acc: 0.6115\n",
      "Epoch 26/80\n",
      "6982/6982 [==============================] - 1s 84us/step - loss: 1.4782 - acc: 0.6256 - val_loss: 1.6117 - val_acc: 0.6100\n",
      "Epoch 27/80\n",
      "6982/6982 [==============================] - 1s 84us/step - loss: 1.4588 - acc: 0.6293 - val_loss: 1.6016 - val_acc: 0.6175\n",
      "Epoch 28/80\n",
      "6982/6982 [==============================] - 1s 85us/step - loss: 1.4504 - acc: 0.6342 - val_loss: 1.5988 - val_acc: 0.6240\n",
      "Epoch 29/80\n",
      "6982/6982 [==============================] - 1s 84us/step - loss: 1.4368 - acc: 0.6425 - val_loss: 1.6013 - val_acc: 0.6205\n",
      "Epoch 30/80\n",
      "6982/6982 [==============================] - 1s 85us/step - loss: 1.4258 - acc: 0.6422 - val_loss: 1.6095 - val_acc: 0.6225\n",
      "Epoch 31/80\n",
      "6982/6982 [==============================] - 1s 84us/step - loss: 1.4033 - acc: 0.6488 - val_loss: 1.5950 - val_acc: 0.6270\n",
      "Epoch 32/80\n",
      "6982/6982 [==============================] - 1s 86us/step - loss: 1.3986 - acc: 0.6535 - val_loss: 1.5917 - val_acc: 0.6275\n",
      "Epoch 33/80\n",
      "6982/6982 [==============================] - 1s 85us/step - loss: 1.3860 - acc: 0.6551 - val_loss: 1.6086 - val_acc: 0.6270\n",
      "Epoch 34/80\n",
      "6982/6982 [==============================] - 1s 85us/step - loss: 1.3745 - acc: 0.6591 - val_loss: 1.5913 - val_acc: 0.6340\n",
      "Epoch 35/80\n",
      "6982/6982 [==============================] - 1s 84us/step - loss: 1.3676 - acc: 0.6649 - val_loss: 1.5919 - val_acc: 0.6355\n",
      "Epoch 36/80\n",
      "6982/6982 [==============================] - 1s 84us/step - loss: 1.3549 - acc: 0.6663 - val_loss: 1.5987 - val_acc: 0.6325\n",
      "Epoch 37/80\n",
      "6982/6982 [==============================] - 1s 84us/step - loss: 1.3381 - acc: 0.6681 - val_loss: 1.6196 - val_acc: 0.6270\n",
      "Epoch 38/80\n",
      "6982/6982 [==============================] - 1s 84us/step - loss: 1.3293 - acc: 0.6744 - val_loss: 1.6015 - val_acc: 0.6380\n",
      "Epoch 39/80\n",
      "6982/6982 [==============================] - 1s 86us/step - loss: 1.3161 - acc: 0.6795 - val_loss: 1.6100 - val_acc: 0.6320\n",
      "Epoch 40/80\n",
      "6982/6982 [==============================] - 1s 86us/step - loss: 1.3029 - acc: 0.6832 - val_loss: 1.6214 - val_acc: 0.6320\n",
      "Epoch 41/80\n",
      "6982/6982 [==============================] - 1s 89us/step - loss: 1.2969 - acc: 0.6825 - val_loss: 1.6047 - val_acc: 0.6380\n",
      "Epoch 42/80\n",
      "6982/6982 [==============================] - 1s 89us/step - loss: 1.2900 - acc: 0.6829 - val_loss: 1.6055 - val_acc: 0.6365\n",
      "Epoch 43/80\n",
      "6982/6982 [==============================] - 1s 87us/step - loss: 1.2784 - acc: 0.6848 - val_loss: 1.6056 - val_acc: 0.6380\n",
      "Epoch 44/80\n",
      "6982/6982 [==============================] - 1s 87us/step - loss: 1.2686 - acc: 0.6889 - val_loss: 1.6138 - val_acc: 0.6405\n",
      "Epoch 45/80\n",
      "6982/6982 [==============================] - 1s 87us/step - loss: 1.2591 - acc: 0.6909 - val_loss: 1.6213 - val_acc: 0.6395\n",
      "Epoch 46/80\n",
      "6982/6982 [==============================] - 1s 89us/step - loss: 1.2509 - acc: 0.6929 - val_loss: 1.6055 - val_acc: 0.6415\n",
      "Epoch 47/80\n",
      "6982/6982 [==============================] - 1s 89us/step - loss: 1.2411 - acc: 0.6956 - val_loss: 1.6214 - val_acc: 0.6400\n",
      "Epoch 48/80\n",
      "6982/6982 [==============================] - 1s 89us/step - loss: 1.2261 - acc: 0.6998 - val_loss: 1.6198 - val_acc: 0.6440\n",
      "Epoch 49/80\n",
      "6982/6982 [==============================] - 1s 96us/step - loss: 1.2196 - acc: 0.7022 - val_loss: 1.6171 - val_acc: 0.6430\n",
      "Epoch 50/80\n",
      "6982/6982 [==============================] - 1s 93us/step - loss: 1.2082 - acc: 0.7041 - val_loss: 1.6285 - val_acc: 0.6430\n",
      "Epoch 51/80\n",
      "6982/6982 [==============================] - 1s 89us/step - loss: 1.2070 - acc: 0.7032 - val_loss: 1.6198 - val_acc: 0.6475\n",
      "Epoch 52/80\n",
      "6982/6982 [==============================] - 1s 90us/step - loss: 1.1915 - acc: 0.7111 - val_loss: 1.6389 - val_acc: 0.6480\n",
      "Epoch 53/80\n",
      "6982/6982 [==============================] - 1s 88us/step - loss: 1.1879 - acc: 0.7157 - val_loss: 1.6294 - val_acc: 0.6525\n",
      "Epoch 54/80\n",
      "6982/6982 [==============================] - 1s 86us/step - loss: 1.1733 - acc: 0.7181 - val_loss: 1.6466 - val_acc: 0.6535\n",
      "Epoch 55/80\n",
      "6982/6982 [==============================] - 1s 89us/step - loss: 1.1676 - acc: 0.7221 - val_loss: 1.6390 - val_acc: 0.6525\n",
      "Epoch 56/80\n",
      "6982/6982 [==============================] - 1s 87us/step - loss: 1.1598 - acc: 0.7260 - val_loss: 1.6343 - val_acc: 0.6540\n",
      "Epoch 57/80\n",
      "6982/6982 [==============================] - 1s 87us/step - loss: 1.1540 - acc: 0.7243 - val_loss: 1.6473 - val_acc: 0.6555\n",
      "Epoch 58/80\n",
      "6982/6982 [==============================] - 1s 88us/step - loss: 1.1386 - acc: 0.7277 - val_loss: 1.6432 - val_acc: 0.6580\n",
      "Epoch 59/80\n",
      "6982/6982 [==============================] - 1s 87us/step - loss: 1.1358 - acc: 0.7322 - val_loss: 1.6732 - val_acc: 0.6570\n",
      "Epoch 60/80\n",
      "6982/6982 [==============================] - 1s 87us/step - loss: 1.1227 - acc: 0.7349 - val_loss: 1.6540 - val_acc: 0.6615\n"
     ]
    },
    {
     "name": "stdout",
     "output_type": "stream",
     "text": [
      "Epoch 61/80\n",
      "6982/6982 [==============================] - 1s 88us/step - loss: 1.1154 - acc: 0.7343 - val_loss: 1.6597 - val_acc: 0.6610\n",
      "Epoch 62/80\n",
      "6982/6982 [==============================] - 1s 85us/step - loss: 1.1074 - acc: 0.7352 - val_loss: 1.6704 - val_acc: 0.6605\n",
      "Epoch 63/80\n",
      "6982/6982 [==============================] - 1s 88us/step - loss: 1.0996 - acc: 0.7390 - val_loss: 1.6778 - val_acc: 0.6610\n",
      "Epoch 64/80\n",
      "6982/6982 [==============================] - 1s 85us/step - loss: 1.0888 - acc: 0.7392 - val_loss: 1.6704 - val_acc: 0.6635\n",
      "Epoch 65/80\n",
      "6982/6982 [==============================] - 1s 92us/step - loss: 1.0862 - acc: 0.7426 - val_loss: 1.6965 - val_acc: 0.6620\n",
      "Epoch 66/80\n",
      "6982/6982 [==============================] - 1s 92us/step - loss: 1.0693 - acc: 0.7458 - val_loss: 1.6907 - val_acc: 0.6615\n",
      "Epoch 67/80\n",
      "6982/6982 [==============================] - 1s 87us/step - loss: 1.0715 - acc: 0.7478 - val_loss: 1.6857 - val_acc: 0.6610\n",
      "Epoch 68/80\n",
      "6982/6982 [==============================] - 1s 85us/step - loss: 1.0616 - acc: 0.7518 - val_loss: 1.6919 - val_acc: 0.6625\n",
      "Epoch 69/80\n",
      "6982/6982 [==============================] - 1s 89us/step - loss: 1.0538 - acc: 0.7495 - val_loss: 1.6969 - val_acc: 0.6645\n",
      "Epoch 70/80\n",
      "6982/6982 [==============================] - 1s 90us/step - loss: 1.0379 - acc: 0.7521 - val_loss: 1.6814 - val_acc: 0.6635\n",
      "Epoch 71/80\n",
      "6982/6982 [==============================] - 1s 91us/step - loss: 1.0302 - acc: 0.7611 - val_loss: 1.6975 - val_acc: 0.6650\n",
      "Epoch 72/80\n",
      "6982/6982 [==============================] - 1s 90us/step - loss: 1.0253 - acc: 0.7604 - val_loss: 1.7796 - val_acc: 0.6605\n",
      "Epoch 73/80\n",
      "6982/6982 [==============================] - 1s 87us/step - loss: 1.0250 - acc: 0.7610 - val_loss: 1.7277 - val_acc: 0.6640\n",
      "Epoch 74/80\n",
      "6982/6982 [==============================] - 1s 87us/step - loss: 1.0136 - acc: 0.7667 - val_loss: 1.7350 - val_acc: 0.6695\n",
      "Epoch 75/80\n",
      "6982/6982 [==============================] - 1s 88us/step - loss: 1.0078 - acc: 0.7673 - val_loss: 1.7187 - val_acc: 0.6705\n",
      "Epoch 76/80\n",
      "6982/6982 [==============================] - 1s 87us/step - loss: 1.0055 - acc: 0.7688 - val_loss: 1.7257 - val_acc: 0.6675\n",
      "Epoch 77/80\n",
      "6982/6982 [==============================] - 1s 89us/step - loss: 0.9966 - acc: 0.7724 - val_loss: 1.7524 - val_acc: 0.6640\n",
      "Epoch 78/80\n",
      "6982/6982 [==============================] - 1s 86us/step - loss: 0.9891 - acc: 0.7738 - val_loss: 1.7211 - val_acc: 0.6705\n",
      "Epoch 79/80\n",
      "6982/6982 [==============================] - 1s 87us/step - loss: 0.9764 - acc: 0.7744 - val_loss: 1.7189 - val_acc: 0.6765\n",
      "Epoch 80/80\n",
      "6982/6982 [==============================] - 1s 88us/step - loss: 0.9684 - acc: 0.7797 - val_loss: 1.7321 - val_acc: 0.6740\n"
     ]
    }
   ],
   "source": [
    "history_pad = model3.fit(x_train_partial_pad, y_train_partial_pad,\n",
    "                    batch_size=batch_size,\n",
    "                    epochs=epochs,\n",
    "                    validation_data=(x_val_pad, y_val_pad),\n",
    "                    verbose=1)"
   ]
  },
  {
   "cell_type": "code",
   "execution_count": 68,
   "metadata": {},
   "outputs": [
    {
     "name": "stdout",
     "output_type": "stream",
     "text": [
      "2246/2246 [==============================] - 0s 16us/step\n",
      "[2.126034377200839, 0.6402493321991136]\n"
     ]
    }
   ],
   "source": [
    "results = model3.evaluate(x_test, y_test_pad)\n",
    "\n",
    "print(results)"
   ]
  },
  {
   "cell_type": "code",
   "execution_count": 69,
   "metadata": {},
   "outputs": [],
   "source": [
    "#Con este modelo, más complejo que el primero, también se supera el umbral pero los resultados son peores. Con lo que, \n",
    "#la premisa que existe acerca de que más capas (mayor complejidad) no siempre es mejor, se valida."
   ]
  },
  {
   "cell_type": "code",
   "execution_count": 70,
   "metadata": {},
   "outputs": [
    {
     "data": {
      "text/plain": [
       "dict_keys(['val_loss', 'val_acc', 'loss', 'acc'])"
      ]
     },
     "execution_count": 70,
     "metadata": {},
     "output_type": "execute_result"
    }
   ],
   "source": [
    "history_dict_pad = history_pad.history\n",
    "history_dict_pad.keys()"
   ]
  },
  {
   "cell_type": "code",
   "execution_count": 71,
   "metadata": {},
   "outputs": [
    {
     "data": {
      "text/plain": [
       "[3.1947996274546,\n",
       " 2.397063893870275,\n",
       " 2.3242629754171094,\n",
       " 2.2428666609674224,\n",
       " 2.1242897488674095,\n",
       " 2.015627529791179,\n",
       " 1.9379966021676829,\n",
       " 1.8821693805321962,\n",
       " 1.8490286141813261,\n",
       " 1.808139246570726,\n",
       " 1.7810873735671533,\n",
       " 1.7488094438150188,\n",
       " 1.720208602592208,\n",
       " 1.697596093366017,\n",
       " 1.6735781636425227,\n",
       " 1.651341095212468,\n",
       " 1.632307767424123,\n",
       " 1.6085689312849643,\n",
       " 1.5899311763377697,\n",
       " 1.5715519724415352,\n",
       " 1.5557107495155214,\n",
       " 1.5350066368097017,\n",
       " 1.5152526598747054,\n",
       " 1.5052781598815874,\n",
       " 1.4905806491997138,\n",
       " 1.4781854332637323,\n",
       " 1.4587626539168608,\n",
       " 1.4504089900123052,\n",
       " 1.43677882996578,\n",
       " 1.425818304317587,\n",
       " 1.403347994546363,\n",
       " 1.3985641276177347,\n",
       " 1.385971826695672,\n",
       " 1.3744789617719297,\n",
       " 1.3676109103957073,\n",
       " 1.3549378604268796,\n",
       " 1.3380871137881034,\n",
       " 1.3292856098621426,\n",
       " 1.3161447924073328,\n",
       " 1.3029256575908676,\n",
       " 1.2969477806689576,\n",
       " 1.2899846084750985,\n",
       " 1.278444316796265,\n",
       " 1.2686336638421392,\n",
       " 1.2591300861639472,\n",
       " 1.2508760328382997,\n",
       " 1.241147678762683,\n",
       " 1.2260574385229273,\n",
       " 1.219554566783845,\n",
       " 1.2082209057126336,\n",
       " 1.2070431417669003,\n",
       " 1.1915071524511056,\n",
       " 1.1879151519681417,\n",
       " 1.1733210689186264,\n",
       " 1.1676337145966809,\n",
       " 1.1597547779039543,\n",
       " 1.1540120659944015,\n",
       " 1.138646870040511,\n",
       " 1.135833966632997,\n",
       " 1.1227217423509506,\n",
       " 1.1153986603235044,\n",
       " 1.1074237910904197,\n",
       " 1.0996093789440484,\n",
       " 1.088844153352468,\n",
       " 1.0861712148147884,\n",
       " 1.0693429271220751,\n",
       " 1.0715386888011758,\n",
       " 1.061572913726057,\n",
       " 1.0538192793825096,\n",
       " 1.0379483968881713,\n",
       " 1.030165998172842,\n",
       " 1.025292587771999,\n",
       " 1.0249781546091425,\n",
       " 1.0136121599304064,\n",
       " 1.0078407130928444,\n",
       " 1.0054957522802317,\n",
       " 0.9966017099172603,\n",
       " 0.9890727719889094,\n",
       " 0.9764454716155468,\n",
       " 0.968401926921521]"
      ]
     },
     "execution_count": 71,
     "metadata": {},
     "output_type": "execute_result"
    }
   ],
   "source": [
    "history_dict_pad['loss']"
   ]
  },
  {
   "cell_type": "code",
   "execution_count": 72,
   "metadata": {},
   "outputs": [
    {
     "data": {
      "text/plain": [
       "[0.3256946433686623,\n",
       " 0.3407333142408769,\n",
       " 0.35104554570598817,\n",
       " 0.3529074763678029,\n",
       " 0.37610999715256505,\n",
       " 0.4432827270123174,\n",
       " 0.4819535949755384,\n",
       " 0.498281294757949,\n",
       " 0.5088799770839301,\n",
       " 0.5209109137953608,\n",
       " 0.5272128329820669,\n",
       " 0.5350902320422815,\n",
       " 0.5488398739701524,\n",
       " 0.5590088799856209,\n",
       " 0.5667430535833872,\n",
       " 0.5696075623116019,\n",
       " 0.5814952735435106,\n",
       " 0.5846462331539374,\n",
       " 0.5930965339615023,\n",
       " 0.5965339444114567,\n",
       " 0.5986823259810943,\n",
       " 0.6077055285189358,\n",
       " 0.6107132626583773,\n",
       " 0.6191635634659424,\n",
       " 0.6178745345344041,\n",
       " 0.6256087081065598,\n",
       " 0.6293325694814107,\n",
       " 0.6342022343338884,\n",
       " 0.6425093096704683,\n",
       " 0.6422228587967931,\n",
       " 0.6488112288913219,\n",
       " 0.6535376683069621,\n",
       " 0.6551131480951017,\n",
       " 0.659123460335091,\n",
       " 0.6648524778171311,\n",
       " 0.6662847321684331,\n",
       " 0.6681466628473217,\n",
       " 0.6744485820852492,\n",
       " 0.6794614723404169,\n",
       " 0.6831853337152678,\n",
       " 0.6824692065481537,\n",
       " 0.6828988828586665,\n",
       " 0.6847608135290182,\n",
       " 0.6889143511716973,\n",
       " 0.690919507321571,\n",
       " 0.6929246634202234,\n",
       " 0.6956459467030637,\n",
       " 0.6997994843884274,\n",
       " 0.7022343168317401,\n",
       " 0.7040962475106286,\n",
       " 0.7032368948810662,\n",
       " 0.7111142939156702,\n",
       " 0.715697507877399,\n",
       " 0.7181323403207117,\n",
       " 0.7221426525350902,\n",
       " 0.7260097393382419,\n",
       " 0.7242910341047277,\n",
       " 0.7277284445888298,\n",
       " 0.7321684331307948,\n",
       " 0.7348897163965613,\n",
       " 0.7343168146662847,\n",
       " 0.7351761673043841,\n",
       " 0.739043254081925,\n",
       " 0.7391864795016887,\n",
       " 0.7426238900114014,\n",
       " 0.7457748495962175,\n",
       " 0.7477800057460913,\n",
       " 0.7517903179775436,\n",
       " 0.7494987109539947,\n",
       " 0.752076768834145,\n",
       " 0.7610999713378388,\n",
       " 0.7603838441877985,\n",
       " 0.760956745918075,\n",
       " 0.7666857633915783,\n",
       " 0.7672586651389287,\n",
       " 0.7688341449612159,\n",
       " 0.7724147808480079,\n",
       " 0.7738470352334574,\n",
       " 0.7744199369978816,\n",
       " 0.7797192781608722]"
      ]
     },
     "execution_count": 72,
     "metadata": {},
     "output_type": "execute_result"
    }
   ],
   "source": [
    "history_dict_pad['acc']"
   ]
  },
  {
   "cell_type": "code",
   "execution_count": 73,
   "metadata": {},
   "outputs": [
    {
     "data": {
      "image/png": "[encoded data removed]",
      "text/plain": [
       "<Figure size 432x288 with 1 Axes>"
      ]
     },
     "metadata": {},
     "output_type": "display_data"
    }
   ],
   "source": [
    "\n",
    "import matplotlib.pyplot as plt\n",
    "acc = history_pad.history['acc']\n",
    "val_acc = history_pad.history['val_acc']\n",
    "loss = history_pad.history['loss']\n",
    "val_loss = history_pad.history['val_loss']\n",
    "\n",
    "epochs = range(1, len(acc) + 1)\n",
    "\n",
    "# \"bo\" is for \"blue dot\"\n",
    "plt.plot(epochs, loss, 'bo', label='Training loss')\n",
    "# b is for \"solid blue line\"\n",
    "plt.plot(epochs, val_loss, 'b', label='Validation loss')\n",
    "plt.title('Training and validation loss')\n",
    "plt.xlabel('Epochs')\n",
    "plt.ylabel('Loss')\n",
    "plt.legend()\n",
    "\n",
    "plt.show()"
   ]
  },
  {
   "cell_type": "code",
   "execution_count": 74,
   "metadata": {},
   "outputs": [
    {
     "data": {
      "image/png": "[encoded data removed]",
      "text/plain": [
       "<Figure size 432x288 with 1 Axes>"
      ]
     },
     "metadata": {},
     "output_type": "display_data"
    }
   ],
   "source": [
    "plt.clf()   # clear figure\n",
    "acc_values = history_dict_pad['acc']\n",
    "val_acc_values = history_dict_pad['val_acc']\n",
    "\n",
    "plt.plot(epochs, acc, 'bo', label='Training acc')\n",
    "plt.plot(epochs, val_acc, 'b', label='Validation acc')\n",
    "plt.title('Training and validation accuracy')\n",
    "plt.xlabel('Epochs')\n",
    "plt.ylabel('Accuracy')\n",
    "plt.legend()\n",
    "\n",
    "plt.show()"
   ]
  },
  {
   "cell_type": "code",
   "execution_count": 55,
   "metadata": {},
   "outputs": [],
   "source": [
    "#Los resultados son peores que en el primero de los casos."
   ]
  },
  {
   "cell_type": "code",
   "execution_count": null,
   "metadata": {},
   "outputs": [],
   "source": []
  }
 ],
 "metadata": {
  "accelerator": "GPU",
  "colab": {
   "collapsed_sections": [],
   "name": "Trabajo 3",
   "provenance": [],
   "version": "0.3.2"
  },
  "kernelspec": {
   "display_name": "Python 3",
   "language": "python",
   "name": "python3"
  },
  "language_info": {
   "codemirror_mode": {
    "name": "ipython",
    "version": 3
   },
   "file_extension": ".py",
   "mimetype": "text/x-python",
   "name": "python",
   "nbconvert_exporter": "python",
   "pygments_lexer": "ipython3",
   "version": "3.6.5"
  }
 },
 "nbformat": 4,
 "nbformat_minor": 1
}
